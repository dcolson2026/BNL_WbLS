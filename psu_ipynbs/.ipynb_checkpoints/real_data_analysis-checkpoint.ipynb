{
 "cells": [
  {
   "cell_type": "code",
   "execution_count": 1,
   "id": "cadab232",
   "metadata": {},
   "outputs": [],
   "source": [
    "\"\"\"Imports\"\"\"\n",
    "import pickle\n",
    "import numpy as np\n",
    "import pandas as pd\n",
    "import matplotlib.pyplot as plt"
   ]
  },
  {
   "cell_type": "code",
   "execution_count": 2,
   "id": "90aa1ec5",
   "metadata": {},
   "outputs": [],
   "source": [
    "\"\"\"Constants\"\"\"\n",
    "TANK_RADIUS_1T_mm = 525.78\n",
    "BOTTOM_PADDLE_1_CENTER = (-175, 325, -1228.05)\n",
    "BOTTOM_PADDLE_2_CENTER = (-43.18, 185.42, -1228.05)\n",
    "BOTTOM_PADDLE_MIDPOINT = tuple((a + b) / 2 for a, b in zip(BOTTOM_PADDLE_1_CENTER, BOTTOM_PADDLE_2_CENTER))\n",
    "TOP_PADDLE_CENTER = (86,86,766.5)\n",
    "\n",
    "# for reco simulation\n",
    "TANK_TOP_Z_mm = 666.75\n",
    "TANK_BOTTOM_Z_mm = -666.75"
   ]
  },
  {
   "cell_type": "code",
   "execution_count": 3,
   "id": "a005153a",
   "metadata": {},
   "outputs": [],
   "source": [
    "\"\"\"Functions\"\"\"\n",
    "def load_data(fname):\n",
    "    with open(fname, \"rb\") as f:\n",
    "        data = pickle.load(f)\n",
    "    return data['reco_events'], data['all_bottom_paddle_tags_for_phase']\n",
    "\n",
    "def calc_radius(x, y):\n",
    "    \"\"\"Simple stuff\"\"\"\n",
    "    return (x**2 + y**2)**0.5\n",
    "\n",
    "def get_delta_radius(recos, BP_tags, entry_or_exit: str) -> list[float]:\n",
    "    delta_radius_list = []\n",
    "    num_events = len(recos)\n",
    "    for i in range(num_events):\n",
    "        # Get which BP was tagged\n",
    "        if BP_tags[i] == 1:\n",
    "            BP_loc = BOTTOM_PADDLE_1_CENTER\n",
    "        elif BP_tags[i] == 2:\n",
    "            BP_loc = BOTTOM_PADDLE_2_CENTER\n",
    "        elif BP_tags[i] == 3:\n",
    "#             BP_loc = BOTTOM_PADDLE_MIDPOINT\n",
    "            continue\n",
    "#             print(\"midpoint!\")\n",
    "#         if not throughgoing(recos[i]):\n",
    "#             continue\n",
    "        if entry_or_exit == \"entry\":\n",
    "            reco_x = recos[i][\"reco\"][0]\n",
    "            reco_y = recos[i][\"reco\"][1]\n",
    "            true_x = TOP_PADDLE_CENTER[0]\n",
    "            true_y = TOP_PADDLE_CENTER[1]\n",
    "        elif entry_or_exit == \"exit\":\n",
    "            reco_x = recos[i][\"reco\"][2]\n",
    "            reco_y = recos[i][\"reco\"][3]\n",
    "            true_x = BP_loc[0]\n",
    "            true_y = BP_loc[1]\n",
    "        reco_r = calc_radius(reco_x, reco_y)\n",
    "        true_r = calc_radius(true_x, true_y)\n",
    "        if reco_r > 520: continue # tried to fix big peak at 404\n",
    "#         if calc_radius(recos[i][\"reco\"][0], recos[i][\"reco\"][1]) > 500: continue\n",
    "        delta_radius_list.append(np.abs(reco_r - true_r))\n",
    "    return delta_radius_list\n",
    "\n",
    "def get_cos_theta(recos) -> list[float]:\n",
    "    cos_theta_list = []\n",
    "    num_events = len(recos)\n",
    "    for i in range(num_events):\n",
    "        # Get which BP was tagged\n",
    "        if BP_tags[i] == 1:\n",
    "            continue\n",
    "#             BP_loc = BOTTOM_PADDLE_1_CENTER\n",
    "        elif BP_tags[i] == 2:\n",
    "#             continue\n",
    "            BP_loc = BOTTOM_PADDLE_2_CENTER\n",
    "        elif BP_tags[i] == 3:\n",
    "            continue\n",
    "#             BP_loc = BOTTOM_PADDLE_MIDPOINT\n",
    "#         if not throughgoing(recos[i]):\n",
    "#             continue\n",
    "        reco_x_entry = recos[i][\"reco\"][0]\n",
    "        reco_y_entry = recos[i][\"reco\"][1]\n",
    "        reco_x_exit = recos[i][\"reco\"][2]\n",
    "        reco_y_exit = recos[i][\"reco\"][3]\n",
    "\n",
    "        true_x_entry = TOP_PADDLE_CENTER[0]\n",
    "        true_y_entry = TOP_PADDLE_CENTER[1]\n",
    "        true_z_entry = TOP_PADDLE_CENTER[2]\n",
    "\n",
    "        true_x_exit = BP_loc[0]\n",
    "        true_y_exit = BP_loc[1]\n",
    "        true_z_exit = BP_loc[2]\n",
    "        \n",
    "\n",
    "        true_vec = np.array([true_x_exit, true_y_exit, true_z_exit]) - np.array([true_x_entry, true_y_entry, true_z_entry])\n",
    "        reco_vec = np.array([reco_x_exit, reco_y_exit, TANK_BOTTOM_Z_mm]) - np.array([reco_x_entry, reco_y_entry, TANK_TOP_Z_mm])\n",
    "\n",
    "        true_normalized = true_vec / np.linalg.norm(true_vec)\n",
    "        reco_normalized = reco_vec / np.linalg.norm(reco_vec)\n",
    "        \n",
    "        dot_product = np.dot(true_normalized, reco_normalized)\n",
    "        cos_theta_list.append(dot_product)\n",
    "#         if dot_product < 0:\n",
    "#             print(reco_x_entry, reco_y_entry, true_x_entry, true_y_entry, reco_x_exit, reco_y_exit, true_x_exit, true_y_exit)\n",
    "    return cos_theta_list\n",
    "\n",
    "def majority_trigger(event) -> bool:\n",
    "    \"\"\"Index into the 26th hit. If it is one of the 28 bottom PMTs, we know\n",
    "    this is a majority trigger event.\"\"\"\n",
    "    pmt_num = event[\"hits\"][25][4]\n",
    "    if pmt_num <= 28:\n",
    "        return True\n",
    "    return False\n",
    "\n",
    "def throughgoing(event) -> bool:\n",
    "    \"\"\"Returns a bool if reco points are within top and bottom bases of \n",
    "    cylindrical detector, because this implies they did not enter/exit side\"\"\"\n",
    "    reco_x_entry = event[\"reco\"][0]\n",
    "    reco_y_entry = event[\"reco\"][1]\n",
    "    reco_x_exit = event[\"reco\"][2]\n",
    "    reco_y_exit = event[\"reco\"][3]\n",
    "    if (calc_radius(reco_x_entry, reco_y_entry) < TANK_RADIUS_1T_mm) and (calc_radius(reco_x_exit, reco_y_exit) < TANK_RADIUS_1T_mm):\n",
    "        return True\n",
    "    return False"
   ]
  },
  {
   "cell_type": "code",
   "execution_count": 4,
   "id": "6c049c8d",
   "metadata": {},
   "outputs": [],
   "source": [
    "user_file_choice = 0\n",
    "\n",
    "### eloss files\n",
    "elosstank_digit_weight_all = \"/storage/group/dfc13/default/dcolson/BNL/data/infile_data4/recos/elosstank_digit_weight_all/07_09_25_reco_elosstank_digit_weight_all_disk_e_phase_3_1.pkl\"\n",
    "elosstank_digit_edge_all = \"/storage/group/dfc13/default/dcolson/BNL/data/infile_data4/recos/elosstank_digit_edge_all/07_09_25_reco_elosstank_digit_edge_all_disk_e_phase_3_1.pkl\"\n",
    "elosstank_digit_weight_per = \"/storage/group/dfc13/default/dcolson/BNL/data/infile_data4/recos/elosstank_digit_weight_per/07_09_25_reco_elosstank_digit_weight_per_disk_e_phase_3_1.pkl\"\n",
    "elosstank_digit_edge_per = \"/storage/group/dfc13/default/dcolson/BNL/data/infile_data4/recos/elosstank_digit_edge_per/07_09_25_reco_elosstank_digit_edge_per_disk_e_phase_3_1.pkl\"\n",
    "\n",
    "### numCher files\n",
    "numCher_digit_edge_all = \"/storage/group/dfc13/default/dcolson/BNL/data/infile_data4/recos/numCher_digit_edge_all/07_09_25_reco_numCher_digit_edge_all_disk_e_phase_3_1.pkl\"\n",
    "numCher_digit_edge_per = \"/storage/group/dfc13/default/dcolson/BNL/data/infile_data4/recos/numCher_digit_edge_per/07_09_25_reco_numCher_digit_edge_per_disk_e_phase_3_1.pkl\"\n",
    "numCher_digit_weight_all = \"/storage/group/dfc13/default/dcolson/BNL/data/infile_data4/recos/numCher_digit_weight_all/07_09_25_reco_numCher_digit_weight_all_disk_e_phase_3_1.pkl\"\n",
    "numCher_digit_weight_per = \"/storage/group/dfc13/default/dcolson/BNL/data/infile_data4/recos/numCher_digit_weight_per/07_09_25_reco_numCher_digit_weight_per_disk_e_phase_3_1.pkl\"\n",
    "\n",
    "file_list = [\n",
    "    elosstank_digit_weight_all,  #0\n",
    "    elosstank_digit_edge_all,    #1\n",
    "    elosstank_digit_weight_per,  #2\n",
    "    elosstank_digit_edge_per,    #3\n",
    "    numCher_digit_edge_all,      #4\n",
    "    numCher_digit_edge_per,      #5\n",
    "    numCher_digit_weight_all,    #6\n",
    "    numCher_digit_weight_per     #7\n",
    "]\n",
    "real_file = file_list[user_file_choice]\n",
    "reco_events, BP_tags = load_data(real_file)\n",
    "reco_type = real_file.split(\"/\")[10]\n",
    "hist_tag = str(reco_type)"
   ]
  },
  {
   "cell_type": "code",
   "execution_count": 5,
   "id": "86b2ff60",
   "metadata": {},
   "outputs": [
    {
     "name": "stdout",
     "output_type": "stream",
     "text": [
      "len values 513\n",
      "68th percentile 235.7307255369693 mm\n"
     ]
    },
    {
     "data": {
      "image/png": "[encoded data removed]",
      "text/plain": [
       "<Figure size 400x200 with 1 Axes>"
      ]
     },
     "metadata": {},
     "output_type": "display_data"
    },
    {
     "name": "stdout",
     "output_type": "stream",
     "text": [
      "len values 258\n",
      "68th percentile 157.21557400718666 mm\n"
     ]
    },
    {
     "data": {
      "image/png": "[encoded data removed]",
      "text/plain": [
       "<Figure size 400x200 with 1 Axes>"
      ]
     },
     "metadata": {},
     "output_type": "display_data"
    }
   ],
   "source": [
    "values = get_delta_radius(reco_events, BP_tags, \"entry\")\n",
    "print(\"len values\", len(values))\n",
    "print(\"68th percentile\", np.percentile(values, 68), \"mm\")\n",
    "# Create the entry histogram\n",
    "plt.figure(figsize=(4, 2))\n",
    "plt.hist(values, bins=\"auto\", edgecolor='black')\n",
    "\n",
    "# Add labels and title (optional)\n",
    "plt.xlabel('(mm)')\n",
    "plt.ylabel('Counts')\n",
    "plt.title(fr'$\\Delta$ r entry {hist_tag}')\n",
    "\n",
    "# Show the plot\n",
    "plt.show()\n",
    "\n",
    "\n",
    "\n",
    "values = get_delta_radius(reco_events, BP_tags, \"exit\")\n",
    "print(\"len values\", len(values))\n",
    "print(\"68th percentile\", np.percentile(values, 68), \"mm\")\n",
    "# Create the exit histogram\n",
    "plt.figure(figsize=(4, 2))\n",
    "plt.hist(values, bins=\"auto\", edgecolor='black')\n",
    "\n",
    "# Add labels and title (optional)\n",
    "plt.xlabel('(mm)')\n",
    "plt.ylabel('Counts')\n",
    "plt.title(fr'$\\Delta$ r exit {hist_tag}')\n",
    "\n",
    "# Show the plot\n",
    "plt.show()"
   ]
  },
  {
   "cell_type": "code",
   "execution_count": 6,
   "id": "5c41fc1a",
   "metadata": {},
   "outputs": [],
   "source": [
    "# for i in values:\n",
    "#     if i > 350:\n",
    "#         print(i)"
   ]
  },
  {
   "cell_type": "code",
   "execution_count": 7,
   "id": "f35f3d2d",
   "metadata": {},
   "outputs": [
    {
     "name": "stdout",
     "output_type": "stream",
     "text": [
      "68th percentile 7.668773305356528 degrees\n"
     ]
    },
    {
     "data": {
      "image/png": "[encoded data removed]",
      "text/plain": [
       "<Figure size 640x480 with 1 Axes>"
      ]
     },
     "metadata": {},
     "output_type": "display_data"
    }
   ],
   "source": [
    "values = get_cos_theta(reco_events)\n",
    "\n",
    "cos_theta_68 = np.percentile(values, 68)\n",
    "theta_rad = np.arccos(cos_theta_68)\n",
    "theta_deg = np.degrees(theta_rad)\n",
    "print(\"68th percentile\", theta_deg, \"degrees\")\n",
    "\n",
    "# Create the histogram\n",
    "plt.hist(values, bins=\"auto\", edgecolor='black')\n",
    "\n",
    "# Add labels and title (optional)\n",
    "plt.xlabel('Value (unitless)')\n",
    "plt.ylabel('Counts')\n",
    "plt.title(fr'Cos $\\theta$ {hist_tag}')\n",
    "\n",
    "# Show the plot\n",
    "plt.show()"
   ]
  },
  {
   "cell_type": "code",
   "execution_count": 11,
   "id": "ed4c05d7",
   "metadata": {},
   "outputs": [
    {
     "name": "stdout",
     "output_type": "stream",
     "text": [
      "                         file    rentry68     rexit68  theta_deg\n",
      "0  elosstank_digit_weight_all  235.730726  157.215574   7.668773\n",
      "1    elosstank_digit_edge_all  391.373195  211.023872  11.751216\n",
      "2  elosstank_digit_weight_per  162.360904  158.114756   6.934756\n",
      "3    elosstank_digit_edge_per  137.710195  170.159950   6.954276\n",
      "4      numCher_digit_edge_all  100.612273  239.725524   5.553337\n",
      "5      numCher_digit_edge_per  194.077161  189.032604  13.358534\n",
      "6    numCher_digit_weight_all  146.808111  217.867227   7.646393\n",
      "7    numCher_digit_weight_per   92.412759  220.527292   5.697490\n"
     ]
    }
   ],
   "source": [
    "results = []\n",
    "for fileee in file_list:\n",
    "    reco_events, BP_tags = load_data(fileee)\n",
    "    file_tag = fileee.split(\"/\")[10]\n",
    "    rentry = get_delta_radius(reco_events, BP_tags, \"entry\")\n",
    "    rentry68 = np.percentile(rentry, 68)\n",
    "    \n",
    "    rexit = get_delta_radius(reco_events, BP_tags, \"exit\")\n",
    "    rexit68 = np.percentile(rexit, 68)\n",
    "    \n",
    "    cos = get_cos_theta(reco_events)\n",
    "    cos_theta_68 = np.percentile(cos, 68)\n",
    "    theta_rad = np.arccos(cos_theta_68)\n",
    "    theta_deg = np.degrees(theta_rad)\n",
    "    \n",
    "    # Append a row of values\n",
    "    results.append([file_tag, rentry68, rexit68, theta_deg])\n",
    "\n",
    "# Create a DataFrame\n",
    "df = pd.DataFrame(results, columns=[\"file\", \"rentry68\", \"rexit68\", \"theta_deg\"])\n",
    "\n",
    "# Print or export the table\n",
    "print(df)"
   ]
  },
  {
   "cell_type": "code",
   "execution_count": null,
   "id": "46f2e86b",
   "metadata": {},
   "outputs": [],
   "source": []
  }
 ],
 "metadata": {
  "kernelspec": {
   "display_name": "Python (psu_jupy)",
   "language": "python",
   "name": "psu_jupy"
  },
  "language_info": {
   "codemirror_mode": {
    "name": "ipython",
    "version": 3
   },
   "file_extension": ".py",
   "mimetype": "text/x-python",
   "name": "python",
   "nbconvert_exporter": "python",
   "pygments_lexer": "ipython3",
   "version": "3.10.18"
  }
 },
 "nbformat": 4,
 "nbformat_minor": 5
}
