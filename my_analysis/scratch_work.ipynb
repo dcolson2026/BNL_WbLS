{
 "cells": [
  {
   "cell_type": "code",
   "execution_count": 5,
   "id": "e0139dd4",
   "metadata": {},
   "outputs": [],
   "source": [
    "import numpy as np\n",
    "import matplotlib.pyplot as plt\n",
    "import scipy.optimize as opt\n",
    "import uproot\n",
    "import pandas as pd\n",
    "import re\n",
    "import time\n",
    "IRRELEVANT_CHANNELS = [\n",
    "    \"adc_b1_ch0\",\n",
    "    \"adc_b2_ch15\",\n",
    "    \"adc_b4_ch12\",\n",
    "    \"adc_b4_ch13\",\n",
    "    \"adc_b4_ch14\",\n",
    "    \"adc_b4_ch15\",\n",
    "]"
   ]
  },
  {
   "cell_type": "code",
   "execution_count": 6,
   "id": "ad182c95",
   "metadata": {},
   "outputs": [],
   "source": [
    "def get_1t_info(fname: str):\n",
    "    f = uproot.open(fname)\n",
    "    daq = f[\"daq\"]\n",
    "    if \"run_info\" in f:\n",
    "        run_info = f[\"run_info\"]\n",
    "    else:\n",
    "        run_info = None\n",
    "    daqkeys = daq.keys()\n",
    "    traces = {}\n",
    "    for key in daq.keys():\n",
    "        if \"adc\" in key:\n",
    "            traces[key] = daq[key].array(library=\"np\")\n",
    "    event_ttt1 = daq[\"event_ttt_1\"].array(library=\"np\")\n",
    "    event_ttt2 = daq[\"event_ttt_2\"].array(library=\"np\")\n",
    "    event_ttt3 = daq[\"event_ttt_3\"].array(library=\"np\")\n",
    "    event_ttt4 = daq[\"event_ttt_4\"].array(library=\"np\")\n",
    "    event_ttt5 = daq[\"event_ttt_5\"].array(library=\"np\")\n",
    "    event_id = daq[\"event_id\"].array(library=\"np\")\n",
    "    event_sanity = daq[\"event_sanity\"].array(library=\"np\")\n",
    "    # event_ttt = daq['event_ttt'].array(library='np')\n",
    "\n",
    "    return (\n",
    "        traces,\n",
    "        event_ttt1.astype(np.int64),\n",
    "        event_ttt2.astype(np.int64),\n",
    "        event_ttt3.astype(np.int64),\n",
    "        event_ttt4.astype(np.int64),\n",
    "        event_ttt5.astype(np.int64),\n",
    "        event_id,\n",
    "        event_sanity,\n",
    "        daqkeys,\n",
    "        run_info,\n",
    "    )\n"
   ]
  },
  {
   "cell_type": "code",
   "execution_count": 7,
   "id": "65299e08",
   "metadata": {},
   "outputs": [],
   "source": [
    "# (\n",
    "#     file_traces,\n",
    "#     event_ttt1,\n",
    "#     event_ttt2,\n",
    "#     event_ttt3,\n",
    "#     event_ttt4,\n",
    "#     event_ttt5,\n",
    "#     file_event_ids,\n",
    "#     file_event_sanity,\n",
    "#     file_daqkeys,\n",
    "#     file_run_info,\n",
    "# ) = get_1t_info(\"/home/dcolson/my_corrected_roots/test4.root\")"
   ]
  },
  {
   "cell_type": "code",
   "execution_count": 8,
   "id": "a84fdeab",
   "metadata": {},
   "outputs": [
    {
     "ename": "NameError",
     "evalue": "name 'file_traces' is not defined",
     "output_type": "error",
     "traceback": [
      "\u001b[31m---------------------------------------------------------------------------\u001b[39m",
      "\u001b[31mNameError\u001b[39m                                 Traceback (most recent call last)",
      "\u001b[36mCell\u001b[39m\u001b[36m \u001b[39m\u001b[32mIn[8]\u001b[39m\u001b[32m, line 1\u001b[39m\n\u001b[32m----> \u001b[39m\u001b[32m1\u001b[39m \u001b[38;5;28mprint\u001b[39m(\u001b[43mfile_traces\u001b[49m[\u001b[33m'\u001b[39m\u001b[33madc_b1_ch7\u001b[39m\u001b[33m'\u001b[39m][\u001b[32m0\u001b[39m])\n\u001b[32m      2\u001b[39m \u001b[38;5;28mprint\u001b[39m(file_traces[\u001b[33m'\u001b[39m\u001b[33madc_b1_ch7\u001b[39m\u001b[33m'\u001b[39m][\u001b[32m0\u001b[39m][\u001b[32m0\u001b[39m])\n\u001b[32m      3\u001b[39m \u001b[38;5;66;03m# for i in range(100):\u001b[39;00m\n\u001b[32m      4\u001b[39m \u001b[38;5;66;03m#     just_a_waveform = file_traces['adc_b4_ch12'][i]\u001b[39;00m\n\u001b[32m      5\u001b[39m \u001b[38;5;66;03m#     val = np.max(just_a_waveform) - np.median(just_a_waveform)\u001b[39;00m\n\u001b[32m      6\u001b[39m \u001b[38;5;66;03m#     print(val)\u001b[39;00m\n\u001b[32m      7\u001b[39m \u001b[38;5;66;03m#     if val < 5:\u001b[39;00m\n\u001b[32m      8\u001b[39m \u001b[38;5;66;03m#         exit\u001b[39;00m\n",
      "\u001b[31mNameError\u001b[39m: name 'file_traces' is not defined"
     ]
    }
   ],
   "source": [
    "print(file_traces['adc_b1_ch7'][0])\n",
    "print(file_traces['adc_b1_ch7'][0][0])\n",
    "# for i in range(100):\n",
    "#     just_a_waveform = file_traces['adc_b4_ch12'][i]\n",
    "#     val = np.max(just_a_waveform) - np.median(just_a_waveform)\n",
    "#     print(val)\n",
    "#     if val < 5:\n",
    "#         exit\n",
    "just_a_waveform = just_a_waveform = file_traces['adc_b4_ch12'][620]\n",
    "val = np.max(just_a_waveform) - np.median(just_a_waveform)\n",
    "print(val)"
   ]
  },
  {
   "cell_type": "code",
   "execution_count": null,
   "id": "c47f3d0c",
   "metadata": {},
   "outputs": [],
   "source": [
    "pot_alphas = [43, 99, 178, 248, 319, 408, 480, 573, 663, 723, 782, 870, 959, 1022, 1093, 1146, 1210, 1220, 1281, 1353, 1411, 1466, 1496, 1569, 1647, 1717, 1781, 1825, 1915, 1989, 2079, 2161, 2237, 2289, 2357, 2433, 2510, 2561, 2640, 2713, 2776, 2875, 2955, 3025, 3121, 3175, 3235, 3293, 3371, 3447, 3525, 3601, 3677, 3757, 3827, 3890, 3985, 4043, 4123, 4184, 4255, 4272, 4304, 4358, 4418, 4488, 4550, 4627, 4709, 4785, 4862, 4953, 5018, 5129, 5192, 5246, 5331, 5423, 5491, 5559, 5627, 5696, 5768, 5839, 5893, 5981, 6046, 6128, 6197, 6244, 6318, 6394, 6489, 6560, 6632, 6714, 6783, 6867, 6943, 7000, 7070, 7138, 7204, 7285, 7331, 7384, 7453, 7525, 7571, 7632, 7686, 7786, 7879, 7961, 8036, 8109, 8169, 8229, 8313, 8362, 8399, 8453, 8519, 8583, 8662, 8711, 8798, 8891, 8945, 9008, 9102, 9177, 9230, 9297, 9388, 9448, 9527, 9594, 9634, 9667, 9736, 9788, 9855, 9906, 9990]\n",
    "for i in pot_alphas:\n",
    "    #just_a_waveform = file_traces['adc_b5_ch34'][i]\n",
    "\n",
    "    just_a_waveform = file_traces['adc_b4_ch12'][i]\n",
    "    # print(type(just_a_waveform))\n",
    "    val = np.median(just_a_waveform) - np.min(just_a_waveform)\n",
    "    # # print(val)\n",
    "    # if val < 50:\n",
    "    #     continue\n",
    "\n",
    "    # # Create the histogram\n",
    "    # plt.figure(figsize=(8, 6))\n",
    "    # plt.plot(just_a_waveform)\n",
    "    # #plt.title(f\"Waveform from adc_b5_ch34, event {i}\")\n",
    "    # plt.title(f\"Waveform from adc_b4_ch12, event {i}\")\n",
    "    # plt.xlabel(\"ADU\")\n",
    "    # plt.ylabel(\"Amplitude\")\n",
    "    # #plt.yscale(\"log\")\n",
    "\n",
    "    # #plt.xlim(0, 1000)\n",
    "    # #plt.xticks(np.arange(0, 1001, 50))\n",
    "\n",
    "    # plt.show()"
   ]
  },
  {
   "cell_type": "code",
   "execution_count": null,
   "id": "f35cf652",
   "metadata": {},
   "outputs": [
    {
     "name": "stdout",
     "output_type": "stream",
     "text": [
      "120\n",
      "25 [5893, 1146, 4488, 3985, 2713, 9634, 8362, 3757, 8109, 4272, 1717, 2357, 1466, 8891, 959, 1220, 5839, 8399, 9297, 6489, 8798, 7138, 6244, 7786, 9594]\n",
      "[5893, 2357, 9297, 6489, 8798, 6244, 7786, 1146, 9594, 4488, 3985, 2713, 9634, 8362, 3757, 8109, 4272, 1717, 1466, 8891, 959, 1220, 5839, 8399, 7138]\n",
      "\n",
      "[5893, 1146, 4488, 3985, 2713, 9634, 8362, 3757, 8109, 4272, 1717, 2357, 1466, 8891, 959, 1220, 5839, 8399, 9297, 6489, 8798, 7138, 6244, 7786, 9594] \n",
      " []\n"
     ]
    }
   ],
   "source": [
    "b4ch12_events = [43, 99, 178, 248, 319, 408, 480, 573, 663, 723, 782, 870, 959, 1022, 1093, 1146, 1210, 1220, 1281, 1353, 1411, 1466, 1496, 1569, 1647, 1717, 1781, 1825, 1915, 1989, 2079, 2161, 2237, 2289, 2357, 2433, 2510, 2561, 2640, 2713, 2776, 2875, 2955, 3025, 3121, 3175, 3235, 3293, 3371, 3447, 3525, 3601, 3677, 3757, 3827, 3890, 3985, 4043, 4123, 4184, 4255, 4272, 4304, 4358, 4418, 4488, 4550, 4627, 4709, 4785, 4862, 4953, 5018, 5129, 5192, 5246, 5331, 5423, 5491, 5559, 5627, 5696, 5768, 5839, 5893, 5981, 6046, 6128, 6197, 6244, 6318, 6394, 6489, 6560, 6632, 6714, 6783, 6867, 6943, 7000, 7070, 7138, 7204, 7285, 7331, 7384, 7453, 7525, 7571, 7632, 7686, 7786, 7879, 7961, 8036, 8109, 8169, 8229, 8313, 8362, 8399, 8453, 8519, 8583, 8662, 8711, 8798, 8891, 8945, 9008, 9102, 9177, 9230, 9297, 9388, 9448, 9527, 9594, 9634, 9667, 9736, 9788, 9855, 9906, 9990]\n",
    "timing_alphas = [43, 99, 178, 248, 319, 408, 480, 573, 663, 723, 782, 870, 1022, 1093, 1210, 1281, 1353, 1411, 1496, 1569, 1647, 1781, 1825, 1915, 1989, 2079, 2161, 2237, 2289, 2433, 2510, 2561, 2640, 2776, 2875, 2955, 3025, 3121, 3175, 3235, 3293, 3371, 3447, 3525, 3601, 3677, 3827, 3890, 4043, 4123, 4184, 4255, 4304, 4358, 4418, 4550, 4627, 4709, 4785, 4862, 4953, 5018, 5129, 5192, 5246, 5331, 5423, 5491, 5559, 5627, 5696, 5768, 5981, 6046, 6128, 6197, 6318, 6394, 6560, 6632, 6714, 6783, 6867, 6943, 7000, 7070, 7204, 7285, 7331, 7384, 7453, 7525, 7571, 7632, 7686, 7879, 7961, 8036, 8169, 8229, 8313, 8453, 8519, 8583, 8662, 8711, 8945, 9008, 9102, 9177, 9230, 9388, 9448, 9527, 9667, 9736, 9788, 9855, 9906, 9990]\n",
    "da_intersection = list(set(b4ch12_events) & set(timing_alphas))\n",
    "print(len(da_intersection))\n",
    "non_intersection = list(set(b4ch12_events) - set(timing_alphas))\n",
    "unique_to_one = list(set(b4ch12_events) ^ set(timing_alphas))\n",
    "print(len(non_intersection), non_intersection)\n",
    "print(unique_to_one)\n",
    "set1 = set(b4ch12_events)\n",
    "set2 = set(timing_alphas)\n",
    "\n",
    "only_in_set1 = list(set1 - set2)\n",
    "only_in_set2 = list(set2 - set1)\n",
    "print()\n",
    "print(only_in_set1, \"\\n\", only_in_set2)\n",
    "\n",
    "\n",
    "# intersection = list(set(list1) & set(list2))\n"
   ]
  },
  {
   "cell_type": "code",
   "execution_count": null,
   "id": "7c0a1280",
   "metadata": {},
   "outputs": [],
   "source": [
    "for i in non_intersection:\n",
    "    #just_a_waveform = file_traces['adc_b5_ch34'][i]\n",
    "\n",
    "    just_a_waveform = file_traces['adc_b4_ch12'][i]\n",
    "    # print(type(just_a_waveform))\n",
    "    val = np.median(just_a_waveform) - np.min(just_a_waveform)\n",
    "    # # print(val)\n",
    "    # if val < 50:\n",
    "    #     continue\n",
    "\n",
    "    # # Create the histogram\n",
    "    # plt.figure(figsize=(8, 6))\n",
    "    # plt.plot(just_a_waveform)\n",
    "    # #plt.title(f\"Waveform from adc_b5_ch34, event {i}\")\n",
    "    # plt.title(f\"Waveform from adc_b4_ch12, event {i}\")\n",
    "    # plt.xlabel(\"ADU\")\n",
    "    # plt.ylabel(\"Amplitude\")\n",
    "    # #plt.yscale(\"log\")\n",
    "\n",
    "    # #plt.xlim(0, 1000)\n",
    "    # #plt.xticks(np.arange(0, 1001, 50))\n",
    "\n",
    "    # plt.show()"
   ]
  },
  {
   "cell_type": "code",
   "execution_count": null,
   "id": "0a7df5a2",
   "metadata": {},
   "outputs": [],
   "source": [
    "alpha_event_indices = [43, 99, 178, 248, 319, 408, 480, 573, 663, 723, 782, 870, 1022, 1093, 1210, 1281, 1353, 1411, 1496, 1569, 1647, 1781, 1825, 1915, 1989, 2079, 2161, 2237, 2289, 2433, 2510, 2561, 2640, 2776, 2875, 2955, 3025, 3121, 3175, 3235, 3293, 3371, 3447, 3525, 3601, 3677, 3827, 3890, 4043, 4123, 4184, 4255, 4304, 4358, 4418, 4550, 4627, 4709, 4785, 4862, 4953, 5018, 5129, 5192, 5246, 5331, 5423, 5491, 5559, 5627, 5696, 5768, 5981, 6046, 6128, 6197, 6318, 6394, 6560, 6632, 6714, 6783, 6867, 6943, 7000, 7070, 7204, 7285, 7331, 7384, 7453, 7525, 7571, 7632, 7686, 7879, 7961, 8036, 8169, 8229, 8313, 8453, 8519, 8583, 8662, 8711, 8945, 9008, 9102, 9177, 9230, 9388, 9448, 9527, 9667, 9736, 9788, 9855, 9906, 9990]\n",
    "num_alpha_events = len(alpha_event_indices)\n",
    "waveforms_of_interest = []\n",
    "\n",
    "for i in range(num_alpha_events):\n",
    "    corrected_waveforms_per_event = []\n",
    "    # waveform loop to get the i_th waveform for each PMT\n",
    "    for key in file_traces.keys():\n",
    "        if (\"b5\" in key) or (key in IRRELEVANT_CHANNELS):\n",
    "            continue\n",
    "        # print(key, type(file_traces[key][i]), len(file_traces[key][i]))\n",
    "        # time.sleep(5)\n",
    "        board_num = int(key[5])\n",
    "        uncorrected_waveform = file_traces[key][i]\n",
    "        corrected_waveforms_per_event.append(\n",
    "            waveform_daisy_correction(uncorrected_waveform, board_num)\n",
    "        )\n",
    "    summed_waveform = np.sum(corrected_waveforms_per_event, axis=0)\n",
    "    peak_sample_time_ns = np.argmin(summed_waveform) * 2 # converts ADU to mV\n",
    "    peak_sample_time_list.append(peak_sample_time_ns)\n",
    "    if 550 < peak_sample_time_ns < 750 and i in alpha_PMT_events:\n",
    "        twice_checked_alpha_event_index_list.append(i)"
   ]
  },
  {
   "cell_type": "code",
   "execution_count": null,
   "id": "d4ba8568",
   "metadata": {},
   "outputs": [
    {
     "name": "stdout",
     "output_type": "stream",
     "text": [
      "{'adc_b1_ch1': np.float64(2.8303321605226635), 'adc_b1_ch2': np.float64(2.7726229709228205), 'adc_b1_ch3': np.float64(2.766661912646518), 'adc_b1_ch4': np.float64(2.8127780109508977), 'adc_b1_ch5': np.float64(2.723938060154003), 'adc_b1_ch6': np.float64(2.5808939450422126), 'adc_b1_ch7': np.float64(2.488475548514704), 'adc_b1_ch8': np.float64(2.4524130067253265), 'adc_b1_ch9': np.float64(2.4751708134097647), 'adc_b1_ch10': np.float64(2.555177793335633), 'adc_b1_ch11': np.float64(2.6873255395570435), 'adc_b1_ch12': np.float64(2.663505861120306), 'adc_b1_ch13': np.float64(2.4880268230511953), 'adc_b1_ch14': np.float64(2.3614854376477155), 'adc_b1_ch15': np.float64(2.2920016300653505), 'adc_b2_ch0': np.float64(2.284786964297158), 'adc_b2_ch1': np.float64(2.3404173713725127), 'adc_b2_ch2': np.float64(2.454623692589604), 'adc_b2_ch3': np.float64(2.6197563765018725), 'adc_b2_ch4': np.float64(2.5687685549478543), 'adc_b2_ch5': np.float64(2.4165568250899643), 'adc_b2_ch6': np.float64(2.317594418548873), 'adc_b2_ch7': np.float64(2.2788292803298997), 'adc_b2_ch8': np.float64(2.3033028217950173), 'adc_b2_ch9': np.float64(2.389072390884983), 'adc_b2_ch10': np.float64(2.529911438941863), 'adc_b2_ch11': np.float64(2.523538548458405), 'adc_b2_ch12': np.float64(2.4586388115287603), 'adc_b2_ch13': np.float64(2.451914518403029), 'adc_b2_ch14': np.float64(2.503834420554913), 'adc_b3_ch0': np.float64(2.199868309252978), 'adc_b3_ch1': np.float64(1.836335918570819), 'adc_b3_ch2': np.float64(1.6317026707808422), 'adc_b3_ch3': np.float64(1.9585296412955646), 'adc_b3_ch4': np.float64(2.6715255567330396), 'adc_b3_ch5': np.float64(2.381125328086608), 'adc_b3_ch6': np.float64(2.227124115997031), 'adc_b3_ch7': np.float64(2.476583650526579), 'adc_b3_ch8': np.float64(2.4783461152438826), 'adc_b3_ch9': np.float64(2.16215367046892), 'adc_b3_ch10': np.float64(1.9912891539709203), 'adc_b3_ch11': np.float64(2.2668518356351), 'adc_b3_ch12': np.float64(2.4154233399942315), 'adc_b3_ch13': np.float64(2.089731786418216), 'adc_b3_ch14': np.float64(1.9124076289239873), 'adc_b3_ch15': np.float64(2.1978825467177874), 'adc_b4_ch0': np.float64(1.7474998214994666), 'adc_b4_ch1': np.float64(1.6055508526460114), 'adc_b4_ch2': np.float64(1.656205062242059), 'adc_b4_ch3': np.float64(2.112033396076082), 'adc_b4_ch4': np.float64(1.9961770914506394), 'adc_b4_ch5': np.float64(2.0371412931351185), 'adc_b4_ch6': np.float64(2.162966515261082), 'adc_b4_ch7': np.float64(2.0499907464260256), 'adc_b4_ch8': np.float64(2.089900411071356), 'adc_b4_ch9': np.float64(1.6840476674193838), 'adc_b4_ch10': np.float64(1.536246874832406), 'adc_b4_ch11': np.float64(1.589111741884825)}\n"
     ]
    }
   ],
   "source": [
    "CHANNELS_AND_DISTANCES_MM_DICT = {\n",
    "    \"adc_b1_ch1\": np.float64(849.099648156799),\n",
    "    \"adc_b1_ch2\": np.float64(831.7868912768462),\n",
    "    \"adc_b1_ch3\": np.float64(829.9985737939554),\n",
    "    \"adc_b1_ch4\": np.float64(843.8334032852694),\n",
    "    \"adc_b1_ch5\": np.float64(817.181418046201),\n",
    "    \"adc_b1_ch6\": np.float64(774.2681835126638),\n",
    "    \"adc_b1_ch7\": np.float64(746.5426645544112),\n",
    "    \"adc_b1_ch8\": np.float64(735.7239020175979),\n",
    "    \"adc_b1_ch9\": np.float64(742.5512440229294),\n",
    "    \"adc_b1_ch10\": np.float64(766.5533380006899),\n",
    "    \"adc_b1_ch11\": np.float64(806.1976618671131),\n",
    "    \"adc_b1_ch12\": np.float64(799.0517583360918),\n",
    "    \"adc_b1_ch13\": np.float64(746.4080469153586),\n",
    "    \"adc_b1_ch14\": np.float64(708.4456312943147),\n",
    "    \"adc_b1_ch15\": np.float64(687.6004890196051),\n",
    "    \"adc_b2_ch0\": np.float64(685.4360892891474),\n",
    "    \"adc_b2_ch1\": np.float64(702.1252114117539),\n",
    "    \"adc_b2_ch2\": np.float64(736.3871077768812),\n",
    "    \"adc_b2_ch3\": np.float64(785.9269129505618),\n",
    "    \"adc_b2_ch4\": np.float64(770.6305664843563),\n",
    "    \"adc_b2_ch5\": np.float64(724.9670475269893),\n",
    "    \"adc_b2_ch6\": np.float64(695.2783255646619),\n",
    "    \"adc_b2_ch7\": np.float64(683.6487840989699),\n",
    "    \"adc_b2_ch8\": np.float64(690.9908465385051),\n",
    "    \"adc_b2_ch9\": np.float64(716.7217172654949),\n",
    "    \"adc_b2_ch10\": np.float64(758.973431682559),\n",
    "    \"adc_b2_ch11\": np.float64(757.0615645375216),\n",
    "    \"adc_b2_ch12\": np.float64(737.5916434586281),\n",
    "    \"adc_b2_ch13\": np.float64(735.5743555209086),\n",
    "    \"adc_b2_ch14\": np.float64(751.1503261664739),\n",
    "    \"adc_b3_ch0\": np.float64(659.9604927758934),\n",
    "    \"adc_b3_ch1\": np.float64(550.9007755712457),\n",
    "    \"adc_b3_ch2\": np.float64(489.51080123425265),\n",
    "    \"adc_b3_ch3\": np.float64(587.5588923886694),\n",
    "    \"adc_b3_ch4\": np.float64(801.4576670199119),\n",
    "    \"adc_b3_ch5\": np.float64(714.3375984259824),\n",
    "    \"adc_b3_ch6\": np.float64(668.1372347991093),\n",
    "    \"adc_b3_ch7\": np.float64(742.9750951579737),\n",
    "    \"adc_b3_ch8\": np.float64(743.5038345731648),\n",
    "    \"adc_b3_ch9\": np.float64(648.646101140676),\n",
    "    \"adc_b3_ch10\": np.float64(597.3867461912761),\n",
    "    \"adc_b3_ch11\": np.float64(680.05555069053),\n",
    "    \"adc_b3_ch12\": np.float64(724.6270019982695),\n",
    "    \"adc_b3_ch13\": np.float64(626.9195359254647),\n",
    "    \"adc_b3_ch14\": np.float64(573.7222886771962),\n",
    "    \"adc_b3_ch15\": np.float64(659.3647640153363),\n",
    "    \"adc_b4_ch0\": np.float64(524.24994644984),\n",
    "    \"adc_b4_ch1\": np.float64(481.6652557938034),\n",
    "    \"adc_b4_ch2\": np.float64(496.8615186726177),\n",
    "    \"adc_b4_ch3\": np.float64(633.6100188228246),\n",
    "    \"adc_b4_ch4\": np.float64(598.8531274351918),\n",
    "    \"adc_b4_ch5\": np.float64(611.1423879405355),\n",
    "    \"adc_b4_ch6\": np.float64(648.8899545783246),\n",
    "    \"adc_b4_ch7\": np.float64(614.9972239278077),\n",
    "    \"adc_b4_ch8\": np.float64(626.9701233214068),\n",
    "    \"adc_b4_ch9\": np.float64(505.2143002258151),\n",
    "    \"adc_b4_ch10\": np.float64(460.8740624497218),\n",
    "    \"adc_b4_ch11\": np.float64(476.7335225654475),\n",
    "}\n",
    "distances_m = {key: value / 300 for key, value in CHANNELS_AND_DISTANCES_MM_DICT.items()}\n",
    "print(distances_m)"
   ]
  },
  {
   "cell_type": "code",
   "execution_count": null,
   "id": "9e100082",
   "metadata": {},
   "outputs": [
    {
     "name": "stdout",
     "output_type": "stream",
     "text": [
      "[{'hi': 1}, {'zhey there': 1}, {'hello': 1}, {'cool': 1}]\n"
     ]
    }
   ],
   "source": [
    "test_str = [\"hi\", \"zhey there\", \"hello\", \"cool\"]\n",
    "overall = []\n",
    "for elem in test_str:\n",
    "    new_dict = {}\n",
    "    new_dict[elem] = 1\n",
    "    overall.append(new_dict)\n",
    "print(overall)"
   ]
  },
  {
   "cell_type": "code",
   "execution_count": null,
   "id": "b82d435e",
   "metadata": {},
   "outputs": [
    {
     "data": {
      "text/plain": [
       "'zhey there'"
      ]
     },
     "execution_count": 21,
     "metadata": {},
     "output_type": "execute_result"
    }
   ],
   "source": [
    "test_str[True]"
   ]
  },
  {
   "cell_type": "code",
   "execution_count": null,
   "id": "180ed357",
   "metadata": {},
   "outputs": [
    {
     "name": "stdout",
     "output_type": "stream",
     "text": [
      "['hi', 'hello']\n"
     ]
    }
   ],
   "source": [
    "print(test_str[0:2])"
   ]
  },
  {
   "cell_type": "code",
   "execution_count": null,
   "id": "fc35a11e",
   "metadata": {},
   "outputs": [
    {
     "name": "stdout",
     "output_type": "stream",
     "text": [
      "1928\n"
     ]
    }
   ],
   "source": [
    "print(2000-72)"
   ]
  },
  {
   "cell_type": "code",
   "execution_count": null,
   "id": "9c2c260f",
   "metadata": {},
   "outputs": [
    {
     "name": "stdout",
     "output_type": "stream",
     "text": [
      "[ 0.  5. 10. 15. 20.]\n"
     ]
    }
   ],
   "source": [
    "t = np.linspace(0, 20, 5)\n",
    "print(t)"
   ]
  },
  {
   "cell_type": "code",
   "execution_count": 9,
   "id": "16b3aa2f",
   "metadata": {},
   "outputs": [],
   "source": [
    "# import time\n",
    "# import numpy as np\n",
    "# import matplotlib.pyplot as plt\n",
    "# from scipy.optimize import curve_fit\n",
    "# from timing_corrections import get_1t_info, is_pulse, waveform_daisy_correction\n",
    "\n",
    "# # ANALYZING CORRECTED FILE\n",
    "# test_num = 4\n",
    "# corrected_file_name = f\"/home/dcolson/my_corrected_roots/test{test_num}.root\"\n",
    "# (\n",
    "#     file_traces,\n",
    "#     event_ttt1,\n",
    "#     event_ttt2,\n",
    "#     event_ttt3,\n",
    "#     event_ttt4,\n",
    "#     event_ttt5,\n",
    "#     file_event_ids,\n",
    "#     file_event_sanity,\n",
    "#     file_daqkeys,\n",
    "#     file_run_info,\n",
    "# ) = get_1t_info(corrected_file_name)\n",
    "\n",
    "# # waveforms\n",
    "# some_detected_pulse_waveforms = []\n",
    "# no_detected_pulse_waveforms = []\n",
    "# for i in range(9991):\n",
    "#     temp_waveform = waveform_daisy_correction(file_traces[\"adc_b1_ch1\"][i], 1)\n",
    "#     pulse = is_pulse(temp_waveform)\n",
    "#     if pulse:\n",
    "#         some_detected_pulse_waveforms.append([i, temp_waveform])\n",
    "#     else:\n",
    "#         no_detected_pulse_waveforms.append([i, temp_waveform])\n",
    "\n",
    "\n",
    "# # MAKE MATPLOT\n",
    "# # lets_look_at = no_detected_pulse_waveforms[10]\n",
    "# print(\"ready\")\n",
    "# plt.figure(figsize=(8, 6))\n",
    "# for i in range(len(no_detected_pulse_waveforms)):\n",
    "#     plt.plot(no_detected_pulse_waveforms[i][1])\n",
    "#     plt.show()\n",
    "#     time.sleep(0.3)\n",
    "# plt.title(f\"Waveform\")\n",
    "# plt.xlabel(\"ADU\")\n",
    "# plt.ylabel(\"Amplitude\")\n",
    "# # plt.yscale(\"log\")\n",
    "\n",
    "# # plt.xlim(325, 425)\n",
    "# # plt.legend()\n",
    "# # plt.xticks(np.arange(0, 1001, 50))\n",
    "\n",
    "\n",
    "# # t: time array\n",
    "# # y: measured waveform (clean or denoised)\n",
    "# # popt, pcov = curve_fit(lognormal_model, t, y, p0=[1.0, 30e-9, 1.0, 0.2])\n",
    "\n",
    "# # popt contains best-fit values for A, t0, mu, sigma\n"
   ]
  },
  {
   "cell_type": "code",
   "execution_count": 49,
   "id": "d2fde994",
   "metadata": {},
   "outputs": [
    {
     "data": {
      "text/plain": [
       "339"
      ]
     },
     "execution_count": 49,
     "metadata": {},
     "output_type": "execute_result"
    }
   ],
   "source": [
    "np.random.randint(20, 980)\n"
   ]
  },
  {
   "cell_type": "code",
   "execution_count": null,
   "id": "0de51b72",
   "metadata": {},
   "outputs": [],
   "source": []
  },
  {
   "cell_type": "code",
   "execution_count": null,
   "id": "58bab038",
   "metadata": {},
   "outputs": [],
   "source": []
  }
 ],
 "metadata": {
  "kernelspec": {
   "display_name": "beefy3",
   "language": "python",
   "name": "python3"
  },
  "language_info": {
   "codemirror_mode": {
    "name": "ipython",
    "version": 3
   },
   "file_extension": ".py",
   "mimetype": "text/x-python",
   "name": "python",
   "nbconvert_exporter": "python",
   "pygments_lexer": "ipython3",
   "version": "3.12.3"
  }
 },
 "nbformat": 4,
 "nbformat_minor": 5
}
